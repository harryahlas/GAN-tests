{
  "nbformat": 4,
  "nbformat_minor": 0,
  "metadata": {
    "colab": {
      "name": "stempeg_build_mp4s.ipynb",
      "provenance": [],
      "collapsed_sections": [],
      "toc_visible": true,
      "authorship_tag": "ABX9TyPzWIp2ZAyVrd0ZcTSd6mc4",
      "include_colab_link": true
    },
    "kernelspec": {
      "name": "python3",
      "display_name": "Python 3"
    }
  },
  "cells": [
    {
      "cell_type": "markdown",
      "metadata": {
        "id": "view-in-github",
        "colab_type": "text"
      },
      "source": [
        "<a href=\"https://colab.research.google.com/github/harryahlas/GAN-tests/blob/master/stempeg_build_mp4s.ipynb\" target=\"_parent\"><img src=\"https://colab.research.google.com/assets/colab-badge.svg\" alt=\"Open In Colab\"/></a>"
      ]
    },
    {
      "cell_type": "markdown",
      "metadata": {
        "id": "8PCI_SQ7I2sM"
      },
      "source": [
        "This script puts multiple wav stems into single mp4 files "
      ]
    },
    {
      "cell_type": "code",
      "metadata": {
        "colab": {
          "base_uri": "https://localhost:8080/"
        },
        "id": "VI6rNodrIyKA",
        "outputId": "8881dee3-4a4a-4253-bbfd-17924c0f3aa6"
      },
      "source": [
        "# Connect to Drive\r\n",
        "from google.colab import drive\r\n",
        "drive.mount('/content/gdrive')"
      ],
      "execution_count": 36,
      "outputs": [
        {
          "output_type": "stream",
          "text": [
            "Drive already mounted at /content/gdrive; to attempt to forcibly remount, call drive.mount(\"/content/gdrive\", force_remount=True).\n"
          ],
          "name": "stdout"
        }
      ]
    },
    {
      "cell_type": "code",
      "metadata": {
        "colab": {
          "base_uri": "https://localhost:8080/"
        },
        "id": "VoN6JrJsFeFW",
        "outputId": "b3db0acc-ffce-47c9-8abd-ec0f2f39ff3e"
      },
      "source": [
        "!pip install stempeg\r\n",
        "import stempeg\r\n",
        "import numpy as np\r\n",
        "from shutil import copyfile"
      ],
      "execution_count": 39,
      "outputs": [
        {
          "output_type": "stream",
          "text": [
            "Requirement already satisfied: stempeg in /usr/local/lib/python3.6/dist-packages (0.2.3)\n",
            "Requirement already satisfied: ffmpeg-python>=0.2.0 in /usr/local/lib/python3.6/dist-packages (from stempeg) (0.2.0)\n",
            "Requirement already satisfied: numpy>=1.6 in /usr/local/lib/python3.6/dist-packages (from stempeg) (1.19.5)\n",
            "Requirement already satisfied: future in /usr/local/lib/python3.6/dist-packages (from ffmpeg-python>=0.2.0->stempeg) (0.16.0)\n"
          ],
          "name": "stdout"
        }
      ]
    },
    {
      "cell_type": "code",
      "metadata": {
        "id": "Bj3PeF7hLimI"
      },
      "source": [
        "# import files and write output\r\n",
        "\r\n",
        "def wavs_to_mp4_stem(file_number):\r\n",
        "\r\n",
        "  # Stem names/locations\r\n",
        "  filename_mix = \"/content/gdrive/My Drive/Development/demucs/audio_file_mixture_\" + file_number + \".wav\"\r\n",
        "  filename_drums = \"/content/gdrive/My Drive/Development/demucs/audio_file_hits_\" + file_number + \".wav\"\r\n",
        "  filename_bass = \"/content/gdrive/My Drive/Development/demucs/audio_file_soundless_audio_\" + file_number + \".wav\"\r\n",
        "  filename_other = \"/content/gdrive/My Drive/Development/demucs/audio_file_background_\" + file_number + \".wav\"\r\n",
        "  filename_vocals = \"/content/gdrive/My Drive/Development/demucs/audio_file_soundless_audio_\" + file_number + \".wav\"\r\n",
        "\r\n",
        "  # Import stems\r\n",
        "  S_filename_mix, rate = stempeg.read_stems(filename_mix, stem_id=0)\r\n",
        "  S_filename_drums, rate = stempeg.read_stems(filename_drums, stem_id=0)\r\n",
        "  S_filename_bass, rate = stempeg.read_stems(filename_bass, stem_id=0)\r\n",
        "  S_filename_other, rate = stempeg.read_stems(filename_other, stem_id=0)\r\n",
        "  S_filename_vocals, rate = stempeg.read_stems(filename_vocals, stem_id=0)\r\n",
        "\r\n",
        "  # convert to stereo, yuck\r\n",
        "  S_filename_mix = np.column_stack((S_filename_mix, S_filename_mix))\r\n",
        "  S_filename_drums = np.column_stack((S_filename_drums, S_filename_drums))\r\n",
        "  S_filename_bass = np.column_stack((S_filename_bass, S_filename_bass))\r\n",
        "  S_filename_other = np.column_stack((S_filename_other, S_filename_other))\r\n",
        "  S_filename_vocals = np.column_stack((S_filename_vocals, S_filename_vocals))\r\n",
        "\r\n",
        "  # Name stems\r\n",
        "  stems = {\r\n",
        "    \"mix\": S_filename_mix,\r\n",
        "    \"drums\": S_filename_drums,\r\n",
        "    \"bass\": S_filename_bass,\r\n",
        "    \"other\": S_filename_other,\r\n",
        "    \"vocals\": S_filename_vocals\r\n",
        "  }\r\n",
        "\r\n",
        "  # Write new mp4 with all stems together\r\n",
        "  stempeg.write_stems(\r\n",
        "  (\"output_\" + file_number + \".mp4\"),\r\n",
        "  stems,\r\n",
        "  sample_rate=rate,\r\n",
        "  writer=stempeg.StreamsWriter(\r\n",
        "          #multiprocess=True,\r\n",
        "          #output_sample_rate=44100#,\r\n",
        "          stem_names=[\"mix\", \"drums\", \"bass\", \"other\", \"vocals\"]\r\n",
        "      )\r\n",
        "  )\r\n",
        "\r\n",
        "  # Copy to drive\r\n",
        "  copyfile(\"output_\" + file_number + \".mp4\", \r\n",
        "           \"/content/gdrive/My Drive/Development/demucs/output_stems\" + file_number + \".wav\")\r\n"
      ],
      "execution_count": 41,
      "outputs": []
    },
    {
      "cell_type": "code",
      "metadata": {
        "colab": {
          "base_uri": "https://localhost:8080/"
        },
        "id": "-nZyNWirP5dp",
        "outputId": "8f6bbc3d-22a2-4669-fbd9-04a8ee17818d"
      },
      "source": [
        "# Write files\r\n",
        "mp4_stems_list = [\r\n",
        "  \"0001\",\r\n",
        "  \"0002\",\r\n",
        "  \"0003\",\r\n",
        "  \"0004\",\r\n",
        "  \"0005\",\r\n",
        "  \"0006\",\r\n",
        "  \"0007\",\r\n",
        "  \"0008\",\r\n",
        "  \"0009\",\r\n",
        "  \"0010\",\r\n",
        "  \"0011\",\r\n",
        "  \"0012\",\r\n",
        "  \"0013\",\r\n",
        "  \"0014\",\r\n",
        "  \"0015\",\r\n",
        "  \"0016\",\r\n",
        "  \"0017\",\r\n",
        "  \"0018\",\r\n",
        "  \"0019\",\r\n",
        "  \"0020\",\r\n",
        "  \"0021\",\r\n",
        "  \"0022\",\r\n",
        "  \"0023\",\r\n",
        "  \"0024\",\r\n",
        "  \"0025\",\r\n",
        "  \"0026\",\r\n",
        "  \"0027\",\r\n",
        "  \"0028\",\r\n",
        "  \"0029\"#,\r\n",
        "  #\"0030\",\r\n",
        "]\r\n",
        "\r\n",
        "[wavs_to_mp4_stem(file_number) for file_number in mp4_stems_list]"
      ],
      "execution_count": 42,
      "outputs": [
        {
          "output_type": "execute_result",
          "data": {
            "text/plain": [
              "[None,\n",
              " None,\n",
              " None,\n",
              " None,\n",
              " None,\n",
              " None,\n",
              " None,\n",
              " None,\n",
              " None,\n",
              " None,\n",
              " None,\n",
              " None,\n",
              " None,\n",
              " None,\n",
              " None,\n",
              " None,\n",
              " None,\n",
              " None,\n",
              " None,\n",
              " None,\n",
              " None,\n",
              " None,\n",
              " None,\n",
              " None,\n",
              " None,\n",
              " None,\n",
              " None,\n",
              " None,\n",
              " None]"
            ]
          },
          "metadata": {
            "tags": []
          },
          "execution_count": 42
        }
      ]
    }
  ]
}