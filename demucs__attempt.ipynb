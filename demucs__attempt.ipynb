{
  "nbformat": 4,
  "nbformat_minor": 0,
  "metadata": {
    "colab": {
      "name": "demucs _attempt.ipynb",
      "provenance": [],
      "collapsed_sections": [],
      "authorship_tag": "ABX9TyOTGijtcsneuenDSAXSq7Ox",
      "include_colab_link": true
    },
    "kernelspec": {
      "name": "python3",
      "display_name": "Python 3"
    },
    "accelerator": "GPU"
  },
  "cells": [
    {
      "cell_type": "markdown",
      "metadata": {
        "id": "view-in-github",
        "colab_type": "text"
      },
      "source": [
        "<a href=\"https://colab.research.google.com/github/harryahlas/GAN-tests/blob/master/demucs__attempt.ipynb\" target=\"_parent\"><img src=\"https://colab.research.google.com/assets/colab-badge.svg\" alt=\"Open In Colab\"/></a>"
      ]
    },
    {
      "cell_type": "markdown",
      "metadata": {
        "id": "Q4YvIbhTmv10"
      },
      "source": [
        "https://github.com/marlluslustosa/demucs/blob/master/Demucs.ipynb"
      ]
    },
    {
      "cell_type": "code",
      "metadata": {
        "colab": {
          "base_uri": "https://localhost:8080/"
        },
        "id": "7JtXxtlWfnz-",
        "outputId": "35879178-6813-4592-f69e-adb3bab60b0c"
      },
      "source": [
        "!conda install git\r\n",
        "!git clone https://github.com/facebookresearch/demucs\r\n",
        "!cd demucs\r\n",
        "!conda env update -f environment-cpu.yml\r\n",
        "!conda activate demucs"
      ],
      "execution_count": 2,
      "outputs": [
        {
          "output_type": "stream",
          "text": [
            "/bin/bash: conda: command not found\n",
            "Cloning into 'demucs'...\n",
            "remote: Enumerating objects: 2856, done.\u001b[K\n",
            "remote: Total 2856 (delta 0), reused 0 (delta 0), pack-reused 2856\u001b[K\n",
            "Receiving objects: 100% (2856/2856), 48.62 MiB | 46.97 MiB/s, done.\n",
            "Resolving deltas: 100% (214/214), done.\n",
            "/bin/bash: conda: command not found\n",
            "/bin/bash: conda: command not found\n"
          ],
          "name": "stdout"
        }
      ]
    },
    {
      "cell_type": "code",
      "metadata": {
        "colab": {
          "base_uri": "https://localhost:8080/"
        },
        "id": "Mz2N3DMsl3M0",
        "outputId": "836280e7-7502-4640-e417-e34ff85c6b70"
      },
      "source": [
        "!wget -c https://repo.continuum.io/archive/Anaconda3-5.1.0-Linux-x86_64.sh"
      ],
      "execution_count": 3,
      "outputs": [
        {
          "output_type": "stream",
          "text": [
            "--2021-02-21 03:17:26--  https://repo.continuum.io/archive/Anaconda3-5.1.0-Linux-x86_64.sh\n",
            "Resolving repo.continuum.io (repo.continuum.io)... 104.18.200.79, 104.18.201.79, 2606:4700::6812:c84f, ...\n",
            "Connecting to repo.continuum.io (repo.continuum.io)|104.18.200.79|:443... connected.\n",
            "HTTP request sent, awaiting response... 301 Moved Permanently\n",
            "Location: https://repo.anaconda.com/archive/Anaconda3-5.1.0-Linux-x86_64.sh [following]\n",
            "--2021-02-21 03:17:26--  https://repo.anaconda.com/archive/Anaconda3-5.1.0-Linux-x86_64.sh\n",
            "Resolving repo.anaconda.com (repo.anaconda.com)... 104.16.130.3, 104.16.131.3, 2606:4700::6810:8203, ...\n",
            "Connecting to repo.anaconda.com (repo.anaconda.com)|104.16.130.3|:443... connected.\n",
            "HTTP request sent, awaiting response... 200 OK\n",
            "Length: 577996269 (551M) [application/x-sh]\n",
            "Saving to: ‘Anaconda3-5.1.0-Linux-x86_64.sh’\n",
            "\n",
            "Anaconda3-5.1.0-Lin 100%[===================>] 551.22M   204MB/s    in 2.7s    \n",
            "\n",
            "2021-02-21 03:17:28 (204 MB/s) - ‘Anaconda3-5.1.0-Linux-x86_64.sh’ saved [577996269/577996269]\n",
            "\n"
          ],
          "name": "stdout"
        }
      ]
    },
    {
      "cell_type": "code",
      "metadata": {
        "id": "PRfJ3IFsl82S"
      },
      "source": [
        "!chmod +x Anaconda3-5.1.0-Linux-x86_64.sh"
      ],
      "execution_count": 4,
      "outputs": []
    },
    {
      "cell_type": "code",
      "metadata": {
        "colab": {
          "base_uri": "https://localhost:8080/"
        },
        "id": "e5FUg32Jl_WT",
        "outputId": "614017be-8a37-4173-e6c5-ed8d468c9ebf"
      },
      "source": [
        "!bash ./Anaconda3-5.1.0-Linux-x86_64.sh -b -f -p /usr/local"
      ],
      "execution_count": 5,
      "outputs": [
        {
          "output_type": "stream",
          "text": [
            "PREFIX=/usr/local\n",
            "installing: python-3.6.4-hc3d631a_1 ...\n",
            "Python 3.6.4 :: Anaconda, Inc.\n",
            "installing: ca-certificates-2017.08.26-h1d4fec5_0 ...\n",
            "installing: conda-env-2.6.0-h36134e3_1 ...\n",
            "installing: intel-openmp-2018.0.0-hc7b2577_8 ...\n",
            "installing: libgcc-ng-7.2.0-h7cc24e2_2 ...\n",
            "installing: libgfortran-ng-7.2.0-h9f7466a_2 ...\n",
            "installing: libstdcxx-ng-7.2.0-h7a57d05_2 ...\n",
            "installing: bzip2-1.0.6-h9a117a8_4 ...\n",
            "installing: expat-2.2.5-he0dffb1_0 ...\n",
            "installing: gmp-6.1.2-h6c8ec71_1 ...\n",
            "installing: graphite2-1.3.10-hf63cedd_1 ...\n",
            "installing: icu-58.2-h9c2bf20_1 ...\n",
            "installing: jbig-2.1-hdba287a_0 ...\n",
            "installing: jpeg-9b-h024ee3a_2 ...\n",
            "installing: libffi-3.2.1-hd88cf55_4 ...\n",
            "installing: libsodium-1.0.15-hf101ebd_0 ...\n",
            "installing: libtool-2.4.6-h544aabb_3 ...\n",
            "installing: libxcb-1.12-hcd93eb1_4 ...\n",
            "installing: lzo-2.10-h49e0be7_2 ...\n",
            "installing: mkl-2018.0.1-h19d6760_4 ...\n",
            "installing: ncurses-6.0-h9df7e31_2 ...\n",
            "installing: openssl-1.0.2n-hb7f436b_0 ...\n",
            "installing: patchelf-0.9-hf79760b_2 ...\n",
            "installing: pcre-8.41-hc27e229_1 ...\n",
            "installing: pixman-0.34.0-hceecf20_3 ...\n",
            "installing: tk-8.6.7-hc745277_3 ...\n",
            "installing: unixodbc-2.3.4-hc36303a_1 ...\n",
            "installing: xz-5.2.3-h55aa19d_2 ...\n",
            "installing: yaml-0.1.7-had09818_2 ...\n",
            "installing: zlib-1.2.11-ha838bed_2 ...\n",
            "installing: glib-2.53.6-h5d9569c_2 ...\n",
            "installing: hdf5-1.10.1-h9caa474_1 ...\n",
            "installing: libedit-3.1-heed3624_0 ...\n",
            "installing: libpng-1.6.34-hb9fc6fc_0 ...\n",
            "installing: libssh2-1.8.0-h9cfc8f7_4 ...\n",
            "installing: libtiff-4.0.9-h28f6b97_0 ...\n",
            "installing: libxml2-2.9.7-h26e45fe_0 ...\n",
            "installing: mpfr-3.1.5-h11a74b3_2 ...\n",
            "installing: pandoc-1.19.2.1-hea2e7c5_1 ...\n",
            "installing: readline-7.0-ha6073c6_4 ...\n",
            "installing: zeromq-4.2.2-hbedb6e5_2 ...\n",
            "installing: dbus-1.12.2-hc3f9b76_1 ...\n",
            "installing: freetype-2.8-hab7d2ae_1 ...\n",
            "installing: gstreamer-1.12.4-hb53b477_0 ...\n",
            "installing: libcurl-7.58.0-h1ad7b7a_0 ...\n",
            "installing: libxslt-1.1.32-h1312cb7_0 ...\n",
            "installing: mpc-1.0.3-hec55b23_5 ...\n",
            "installing: sqlite-3.22.0-h1bed415_0 ...\n",
            "installing: curl-7.58.0-h84994c4_0 ...\n",
            "installing: fontconfig-2.12.4-h88586e7_1 ...\n",
            "installing: gst-plugins-base-1.12.4-h33fb286_0 ...\n",
            "installing: alabaster-0.7.10-py36h306e16b_0 ...\n",
            "installing: asn1crypto-0.24.0-py36_0 ...\n",
            "installing: attrs-17.4.0-py36_0 ...\n",
            "installing: backports-1.0-py36hfa02d7e_1 ...\n",
            "installing: beautifulsoup4-4.6.0-py36h49b8c8c_1 ...\n",
            "installing: bitarray-0.8.1-py36h14c3975_1 ...\n",
            "installing: boto-2.48.0-py36h6e4cd66_1 ...\n",
            "installing: cairo-1.14.12-h77bcde2_0 ...\n",
            "installing: certifi-2018.1.18-py36_0 ...\n",
            "installing: chardet-3.0.4-py36h0f667ec_1 ...\n",
            "installing: click-6.7-py36h5253387_0 ...\n",
            "installing: cloudpickle-0.5.2-py36_1 ...\n",
            "installing: colorama-0.3.9-py36h489cec4_0 ...\n",
            "installing: contextlib2-0.5.5-py36h6c84a62_0 ...\n",
            "installing: dask-core-0.16.1-py36_0 ...\n",
            "installing: decorator-4.2.1-py36_0 ...\n",
            "installing: docutils-0.14-py36hb0f60f5_0 ...\n",
            "installing: entrypoints-0.2.3-py36h1aec115_2 ...\n",
            "installing: et_xmlfile-1.0.1-py36hd6bccc3_0 ...\n",
            "installing: fastcache-1.0.2-py36h14c3975_2 ...\n",
            "installing: filelock-2.0.13-py36h646ffb5_0 ...\n",
            "installing: glob2-0.6-py36he249c77_0 ...\n",
            "installing: gmpy2-2.0.8-py36hc8893dd_2 ...\n",
            "installing: greenlet-0.4.12-py36h2d503a6_0 ...\n",
            "installing: heapdict-1.0.0-py36_2 ...\n",
            "installing: idna-2.6-py36h82fb2a8_1 ...\n",
            "installing: imagesize-0.7.1-py36h52d8127_0 ...\n",
            "installing: ipython_genutils-0.2.0-py36hb52b0d5_0 ...\n",
            "installing: itsdangerous-0.24-py36h93cc618_1 ...\n",
            "installing: jdcal-1.3-py36h4c697fb_0 ...\n",
            "installing: lazy-object-proxy-1.3.1-py36h10fcdad_0 ...\n",
            "installing: llvmlite-0.21.0-py36ha241eea_0 ...\n",
            "installing: locket-0.2.0-py36h787c0ad_1 ...\n",
            "installing: lxml-4.1.1-py36hf71bdeb_1 ...\n",
            "installing: markupsafe-1.0-py36hd9260cd_1 ...\n",
            "installing: mccabe-0.6.1-py36h5ad9710_1 ...\n",
            "installing: mistune-0.8.3-py36_0 ...\n",
            "installing: mkl-service-1.1.2-py36h17a0993_4 ...\n",
            "installing: mpmath-1.0.0-py36hfeacd6b_2 ...\n",
            "installing: msgpack-python-0.5.1-py36h6bb024c_0 ...\n",
            "installing: multipledispatch-0.4.9-py36h41da3fb_0 ...\n",
            "installing: numpy-1.14.0-py36h3dfced4_1 ...\n",
            "installing: olefile-0.45.1-py36_0 ...\n",
            "installing: pandocfilters-1.4.2-py36ha6701b7_1 ...\n",
            "installing: parso-0.1.1-py36h35f843b_0 ...\n",
            "installing: path.py-10.5-py36h55ceabb_0 ...\n",
            "installing: pep8-1.7.1-py36_0 ...\n",
            "installing: pickleshare-0.7.4-py36h63277f8_0 ...\n",
            "installing: pkginfo-1.4.1-py36h215d178_1 ...\n",
            "installing: pluggy-0.6.0-py36hb689045_0 ...\n",
            "installing: ply-3.10-py36hed35086_0 ...\n",
            "installing: psutil-5.4.3-py36h14c3975_0 ...\n",
            "installing: ptyprocess-0.5.2-py36h69acd42_0 ...\n",
            "installing: py-1.5.2-py36h29bf505_0 ...\n",
            "installing: pycodestyle-2.3.1-py36hf609f19_0 ...\n",
            "installing: pycosat-0.6.3-py36h0a5515d_0 ...\n",
            "installing: pycparser-2.18-py36hf9f622e_1 ...\n",
            "installing: pycrypto-2.6.1-py36h14c3975_7 ...\n",
            "installing: pycurl-7.43.0.1-py36hb7f436b_0 ...\n",
            "installing: pyodbc-4.0.22-py36hf484d3e_0 ...\n",
            "installing: pyparsing-2.2.0-py36hee85983_1 ...\n",
            "installing: pysocks-1.6.7-py36hd97a5b1_1 ...\n",
            "installing: pytz-2017.3-py36h63b9c63_0 ...\n",
            "installing: pyyaml-3.12-py36hafb9ca4_1 ...\n",
            "installing: pyzmq-16.0.3-py36he2533c7_0 ...\n",
            "installing: qt-5.6.2-h974d657_12 ...\n",
            "installing: qtpy-1.3.1-py36h3691cc8_0 ...\n",
            "installing: rope-0.10.7-py36h147e2ec_0 ...\n",
            "installing: ruamel_yaml-0.15.35-py36h14c3975_1 ...\n",
            "installing: send2trash-1.4.2-py36_0 ...\n",
            "installing: simplegeneric-0.8.1-py36_2 ...\n",
            "installing: sip-4.18.1-py36h51ed4ed_2 ...\n",
            "installing: six-1.11.0-py36h372c433_1 ...\n",
            "installing: snowballstemmer-1.2.1-py36h6febd40_0 ...\n",
            "installing: sortedcontainers-1.5.9-py36_0 ...\n",
            "installing: sphinxcontrib-1.0-py36h6d0f590_1 ...\n",
            "installing: sqlalchemy-1.2.1-py36h14c3975_0 ...\n",
            "installing: tblib-1.3.2-py36h34cf8b6_0 ...\n",
            "installing: testpath-0.3.1-py36h8cadb63_0 ...\n",
            "installing: toolz-0.9.0-py36_0 ...\n",
            "installing: tornado-4.5.3-py36_0 ...\n",
            "installing: typing-3.6.2-py36h7da032a_0 ...\n",
            "installing: unicodecsv-0.14.1-py36ha668878_0 ...\n",
            "installing: wcwidth-0.1.7-py36hdf4376a_0 ...\n",
            "installing: webencodings-0.5.1-py36h800622e_1 ...\n",
            "installing: werkzeug-0.14.1-py36_0 ...\n",
            "installing: wrapt-1.10.11-py36h28b7045_0 ...\n",
            "installing: xlrd-1.1.0-py36h1db9f0c_1 ...\n",
            "installing: xlsxwriter-1.0.2-py36h3de1aca_0 ...\n",
            "installing: xlwt-1.3.0-py36h7b00a1f_0 ...\n",
            "installing: babel-2.5.3-py36_0 ...\n",
            "installing: backports.shutil_get_terminal_size-1.0.0-py36hfea85ff_2 ...\n",
            "installing: bottleneck-1.2.1-py36haac1ea0_0 ...\n",
            "installing: cffi-1.11.4-py36h9745a5d_0 ...\n",
            "installing: conda-verify-2.0.0-py36h98955d8_0 ...\n",
            "installing: cycler-0.10.0-py36h93f1223_0 ...\n",
            "installing: cytoolz-0.9.0-py36h14c3975_0 ...\n",
            "installing: h5py-2.7.1-py36h3585f63_0 ...\n",
            "installing: harfbuzz-1.7.4-hc5b324e_0 ...\n",
            "installing: html5lib-1.0.1-py36h2f9c1c0_0 ...\n",
            "installing: jedi-0.11.1-py36_0 ...\n",
            "installing: networkx-2.1-py36_0 ...\n",
            "installing: nltk-3.2.5-py36h7532b22_0 ...\n",
            "installing: numba-0.36.2-np114py36hc6662d5_0 ...\n",
            "installing: numexpr-2.6.4-py36hc4a3f9a_0 ...\n",
            "installing: openpyxl-2.4.10-py36_0 ...\n",
            "installing: packaging-16.8-py36ha668100_1 ...\n",
            "installing: partd-0.3.8-py36h36fd896_0 ...\n",
            "installing: pathlib2-2.3.0-py36h49efa8e_0 ...\n",
            "installing: pexpect-4.3.1-py36_0 ...\n",
            "installing: pillow-5.0.0-py36h3deb7b8_0 ...\n",
            "installing: pyqt-5.6.0-py36h0386399_5 ...\n",
            "installing: python-dateutil-2.6.1-py36h88d3b88_1 ...\n",
            "installing: pywavelets-0.5.2-py36he602eb0_0 ...\n",
            "installing: qtawesome-0.4.4-py36h609ed8c_0 ...\n",
            "installing: scipy-1.0.0-py36hbf646e7_0 ...\n",
            "installing: setuptools-38.4.0-py36_0 ...\n",
            "installing: singledispatch-3.4.0.3-py36h7a266c3_0 ...\n",
            "installing: sortedcollections-0.5.3-py36h3c761f9_0 ...\n",
            "installing: sphinxcontrib-websupport-1.0.1-py36hb5cb234_1 ...\n",
            "installing: sympy-1.1.1-py36hc6d1c1c_0 ...\n",
            "installing: terminado-0.8.1-py36_1 ...\n",
            "installing: traitlets-4.3.2-py36h674d592_0 ...\n",
            "installing: zict-0.1.3-py36h3a3bf81_0 ...\n",
            "installing: astroid-1.6.1-py36_0 ...\n",
            "installing: bleach-2.1.2-py36_0 ...\n",
            "installing: clyent-1.2.2-py36h7e57e65_1 ...\n",
            "installing: cryptography-2.1.4-py36hd09be54_0 ...\n",
            "installing: cython-0.27.3-py36h1860423_0 ...\n",
            "installing: datashape-0.5.4-py36h3ad6b5c_0 ...\n",
            "installing: distributed-1.20.2-py36_0 ...\n",
            "installing: get_terminal_size-1.0.0-haa9412d_0 ...\n",
            "installing: gevent-1.2.2-py36h2fe25dc_0 ...\n",
            "installing: imageio-2.2.0-py36he555465_0 ...\n",
            "installing: isort-4.2.15-py36had401c0_0 ...\n",
            "installing: jinja2-2.10-py36ha16c418_0 ...\n",
            "installing: jsonschema-2.6.0-py36h006f8b5_0 ...\n",
            "installing: jupyter_core-4.4.0-py36h7c827e3_0 ...\n",
            "installing: matplotlib-2.1.2-py36h0e671d2_0 ...\n",
            "installing: navigator-updater-0.1.0-py36h14770f7_0 ...\n",
            "installing: nose-1.3.7-py36hcdf7029_2 ...\n",
            "installing: pandas-0.22.0-py36hf484d3e_0 ...\n",
            "installing: pango-1.41.0-hd475d92_0 ...\n",
            "installing: patsy-0.5.0-py36_0 ...\n",
            "installing: pyflakes-1.6.0-py36h7bd6a15_0 ...\n",
            "installing: pygments-2.2.0-py36h0d3125c_0 ...\n",
            "installing: pytables-3.4.2-py36h3b5282a_2 ...\n",
            "installing: pytest-3.3.2-py36_0 ...\n",
            "installing: scikit-learn-0.19.1-py36h7aa7ec6_0 ...\n",
            "installing: wheel-0.30.0-py36hfd4bba0_1 ...\n",
            "installing: astropy-2.0.3-py36h14c3975_0 ...\n",
            "installing: bkcharts-0.2-py36h735825a_0 ...\n",
            "installing: bokeh-0.12.13-py36h2f9c1c0_0 ...\n",
            "installing: flask-0.12.2-py36hb24657c_0 ...\n",
            "installing: jupyter_client-5.2.2-py36_0 ...\n",
            "installing: nbformat-4.4.0-py36h31c9010_0 ...\n",
            "installing: pip-9.0.1-py36h6c6f9ce_4 ...\n",
            "installing: prompt_toolkit-1.0.15-py36h17d85b1_0 ...\n",
            "installing: pylint-1.8.2-py36_0 ...\n",
            "installing: pyopenssl-17.5.0-py36h20ba746_0 ...\n",
            "installing: statsmodels-0.8.0-py36h8533d0b_0 ...\n",
            "installing: dask-0.16.1-py36_0 ...\n",
            "installing: flask-cors-3.0.3-py36h2d857d3_0 ...\n",
            "installing: ipython-6.2.1-py36h88c514a_1 ...\n",
            "installing: nbconvert-5.3.1-py36hb41ffb7_0 ...\n",
            "installing: seaborn-0.8.1-py36hfad7ec4_0 ...\n",
            "installing: urllib3-1.22-py36hbe7ace6_0 ...\n",
            "installing: ipykernel-4.8.0-py36_0 ...\n",
            "installing: odo-0.5.1-py36h90ed295_0 ...\n",
            "installing: requests-2.18.4-py36he2e5f8d_1 ...\n",
            "installing: scikit-image-0.13.1-py36h14c3975_1 ...\n",
            "installing: anaconda-client-1.6.9-py36_0 ...\n",
            "installing: blaze-0.11.3-py36h4e06776_0 ...\n",
            "installing: jupyter_console-5.2.0-py36he59e554_1 ...\n",
            "installing: notebook-5.4.0-py36_0 ...\n",
            "installing: qtconsole-4.3.1-py36h8f73b5b_0 ...\n",
            "installing: sphinx-1.6.6-py36_0 ...\n",
            "installing: anaconda-project-0.8.2-py36h44fb852_0 ...\n",
            "installing: jupyterlab_launcher-0.10.2-py36_0 ...\n",
            "installing: numpydoc-0.7.0-py36h18f165f_0 ...\n",
            "installing: widgetsnbextension-3.1.0-py36_0 ...\n",
            "installing: anaconda-navigator-1.7.0-py36_0 ...\n",
            "installing: ipywidgets-7.1.1-py36_0 ...\n",
            "installing: jupyterlab-0.31.5-py36_0 ...\n",
            "installing: spyder-3.2.6-py36_0 ...\n",
            "installing: _ipyw_jlab_nb_ext_conf-0.1.0-py36he11e457_0 ...\n",
            "installing: jupyter-1.0.0-py36_4 ...\n",
            "installing: anaconda-5.1.0-py36_2 ...\n",
            "installing: conda-4.4.10-py36_0 ...\n",
            "installing: conda-build-3.4.1-py36_0 ...\n",
            "installation finished.\n",
            "WARNING:\n",
            "    You currently have a PYTHONPATH environment variable set. This may cause\n",
            "    unexpected behavior when running the Python interpreter in Anaconda3.\n",
            "    For best results, please verify that your PYTHONPATH only points to\n",
            "    directories of packages that are compatible with the Python interpreter\n",
            "    in Anaconda3: /usr/local\n"
          ],
          "name": "stdout"
        }
      ]
    },
    {
      "cell_type": "code",
      "metadata": {
        "id": "RXQApXYrmDSx"
      },
      "source": [
        "\r\n",
        "import sys\r\n",
        "sys.path.append('/usr/local/lib/python3.7/site-packages/')"
      ],
      "execution_count": 6,
      "outputs": []
    },
    {
      "cell_type": "code",
      "metadata": {
        "colab": {
          "base_uri": "https://localhost:8080/"
        },
        "id": "llgR__GSmHkL",
        "outputId": "f2ac5995-a548-4ecf-887f-78b7087f8e2c"
      },
      "source": [
        "!git clone https://github.com/facebookresearch/demucs"
      ],
      "execution_count": 7,
      "outputs": [
        {
          "output_type": "stream",
          "text": [
            "fatal: destination path 'demucs' already exists and is not an empty directory.\n"
          ],
          "name": "stdout"
        }
      ]
    },
    {
      "cell_type": "code",
      "metadata": {
        "colab": {
          "base_uri": "https://localhost:8080/"
        },
        "id": "xrpDkKaWmPD0",
        "outputId": "4187384a-91d8-4ebc-d4d8-d044f653310c"
      },
      "source": [
        "cd demucs"
      ],
      "execution_count": 8,
      "outputs": [
        {
          "output_type": "stream",
          "text": [
            "/content/demucs\n"
          ],
          "name": "stdout"
        }
      ]
    },
    {
      "cell_type": "code",
      "metadata": {
        "colab": {
          "base_uri": "https://localhost:8080/"
        },
        "id": "C-RRZAGImURz",
        "outputId": "e642684b-4fa4-4224-aacf-c821e796941a"
      },
      "source": [
        "!conda update -n base conda"
      ],
      "execution_count": 9,
      "outputs": [
        {
          "output_type": "stream",
          "text": [
            "Solving environment: - \b\b\\ \b\b| \b\b/ \b\b- \b\b\\ \b\b| \b\b/ \b\b- \b\b\\ \b\b| \b\b/ \b\b- \b\b\\ \b\b| \b\b/ \b\b- \b\b\\ \b\b| \b\b/ \b\b- \b\b\\ \b\b| \b\b/ \b\b- \b\b\\ \b\b| \b\b/ \b\b- \b\b\\ \b\b| \b\b/ \b\b- \b\b\\ \b\b| \b\b/ \b\b- \b\b\\ \b\b| \b\b/ \b\b- \b\b\\ \b\b| \b\b/ \b\b- \b\b\\ \b\b| \b\b/ \b\b- \b\b\\ \b\b| \b\b/ \b\b- \b\b\\ \b\b| \b\b/ \b\b- \b\b\\ \b\b| \b\b/ \b\b- \b\b\\ \b\b| \b\b/ \b\b- \b\b\\ \b\b| \b\b/ \b\b- \b\b\\ \b\b| \b\b/ \b\b- \b\b\\ \b\b| \b\b/ \b\b- \b\b\\ \b\b| \b\b/ \b\b- \b\b\\ \b\b| \b\b/ \b\b- \b\b\\ \b\b| \b\b/ \b\b- \b\b\\ \b\b| \b\b/ \b\b- \b\b\\ \b\b| \b\b/ \b\b- \b\b\\ \b\b| \b\b/ \b\b- \b\b\\ \b\b| \b\b/ \b\b- \b\b\\ \b\b| \b\b/ \b\b- \b\b\\ \b\b| \b\b/ \b\b- \b\b\\ \b\b| \b\b/ \b\b- \b\b\\ \b\b| \b\b/ \b\b- \b\b\\ \b\b| \b\b/ \b\b- \b\b\\ \b\b| \b\b/ \b\b- \b\b\\ \b\b| \b\b/ \b\b- \b\b\\ \b\b| \b\b/ \b\b- \b\b\\ \b\b| \b\b/ \b\b- \b\b\\ \b\b| \b\b/ \b\b- \b\b\\ \b\b| \b\b/ \b\b- \b\b\\ \b\b| \b\b/ \b\b- \b\b\\ \b\b| \b\b/ \b\b- \b\b\\ \b\b| \b\b/ \b\b- \b\b\\ \b\b| \b\b/ \b\b- \b\b\\ \b\b| \b\b/ \b\b- \b\b\\ \b\b| \b\b/ \b\b- \b\b\\ \b\b| \b\b/ \b\b- \b\b\\ \b\b| \b\b/ \b\b- \b\b\\ \b\b| \b\b/ \b\b- \b\b\\ \b\b| \b\b/ \b\b- \b\b\\ \b\b| \b\b/ \b\b- \b\b\\ \b\b| \b\b/ \b\b- \b\b\\ \b\b| \b\b/ \b\b- \b\b\\ \b\b| \b\b/ \b\b- \b\b\\ \b\b| \b\b/ \b\b- \b\b\\ \b\b| \b\b/ \b\b- \b\b\\ \b\b| \b\b/ \b\b- \b\b\\ \b\b| \b\b/ \b\b- \b\b\\ \b\b| \b\b/ \b\b- \b\b\\ \b\b| \b\b/ \b\b- \b\b\\ \b\b| \b\b/ \b\b- \b\b\\ \b\b| \b\b/ \b\b- \b\b\\ \b\b| \b\b/ \b\b- \b\b\\ \b\b| \b\b/ \b\b- \b\b\\ \b\b| \b\b/ \b\b- \b\b\\ \b\b| \b\b/ \b\b- \b\b\\ \b\b| \b\b/ \b\b- \b\b\\ \b\b| \b\b/ \b\b- \b\b\\ \b\b| \b\b/ \b\b- \b\b\\ \b\b| \b\b/ \b\b- \b\b\\ \b\b| \b\b/ \b\b- \b\b\\ \b\b| \b\b/ \b\b- \b\b\\ \b\b| \b\b/ \b\b- \b\b\\ \b\b| \b\b/ \b\b- \b\b\\ \b\b| \b\b/ \b\b- \b\b\\ \b\b| \b\b/ \b\b- \b\b\\ \b\b| \b\b/ \b\b- \b\b\\ \b\b| \b\b/ \b\b- \b\b\\ \b\b| \b\b/ \b\b- \b\b\\ \b\b| \b\b/ \b\b- \b\b\\ \b\b| \b\b/ \b\b- \b\b\\ \b\b| \b\b/ \b\b- \b\b\\ \b\b| \b\b/ \b\b- \b\b\\ \b\b| \b\b/ \b\b- \b\b\\ \b\b| \b\b/ \b\b- \b\b\\ \b\b| \b\b/ \b\b- \b\b\\ \b\b| \b\b/ \b\b- \b\b\\ \b\b| \b\b/ \b\b- \b\b\\ \b\b| \b\b/ \b\b- \b\b\\ \b\b| \b\b/ \b\b- \b\b\\ \b\b| \b\bdone\n",
            "\n",
            "## Package Plan ##\n",
            "\n",
            "  environment location: /usr/local\n",
            "\n",
            "  added / updated specs: \n",
            "    - conda\n",
            "\n",
            "\n",
            "The following packages will be downloaded:\n",
            "\n",
            "    package                    |            build\n",
            "    ---------------------------|-----------------\n",
            "    tqdm-4.56.0                |     pyhd3eb1b0_0          76 KB\n",
            "    ncurses-6.1                |       hf484d3e_0         943 KB\n",
            "    xz-5.2.5                   |       h7b6447c_0         438 KB\n",
            "    pycosat-0.6.3              |   py37h27cfd23_0         108 KB\n",
            "    asn1crypto-1.4.0           |             py_0          77 KB\n",
            "    chardet-4.0.0              |py37h06a4308_1003         205 KB\n",
            "    readline-7.0               |       h7b6447c_5         392 KB\n",
            "    libgcc-ng-9.1.0            |       hdf63c60_0         8.1 MB\n",
            "    pysocks-1.7.1              |           py37_1          27 KB\n",
            "    six-1.15.0                 |     pyhd3eb1b0_0          13 KB\n",
            "    wheel-0.36.2               |     pyhd3eb1b0_0          31 KB\n",
            "    pycparser-2.20             |             py_2          94 KB\n",
            "    libedit-3.1.20181209       |       hc058e9b_0         188 KB\n",
            "    idna-2.10                  |     pyhd3eb1b0_0          52 KB\n",
            "    urllib3-1.26.3             |     pyhd3eb1b0_0          99 KB\n",
            "    requests-2.25.1            |     pyhd3eb1b0_0          51 KB\n",
            "    conda-4.9.2                |   py37h06a4308_0         3.1 MB\n",
            "    openssl-1.0.2u             |       h7b6447c_0         3.1 MB\n",
            "    zlib-1.2.11                |       h7b6447c_3         120 KB\n",
            "    sqlite-3.31.1              |       h7b6447c_0         2.0 MB\n",
            "    ca-certificates-2021.1.19  |       h06a4308_0         128 KB\n",
            "    pip-21.0.1                 |   py37h06a4308_0         2.0 MB\n",
            "    tk-8.6.10                  |       hbc83047_0         3.2 MB\n",
            "    brotlipy-0.7.0             |py37h27cfd23_1003         350 KB\n",
            "    python-3.7.0               |       hc3d631a_0        31.7 MB\n",
            "    conda-package-handling-1.7.2|   py37h03888b9_0         977 KB\n",
            "    yaml-0.2.5                 |       h7b6447c_0          87 KB\n",
            "    _libgcc_mutex-0.1          |             main           3 KB\n",
            "    ruamel_yaml-0.15.87        |   py37h7b6447c_1         253 KB\n",
            "    cryptography-2.3.1         |   py37hc365091_0         585 KB\n",
            "    cffi-1.14.0                |   py37h2e261b9_0         225 KB\n",
            "    certifi-2020.12.5          |   py37h06a4308_0         143 KB\n",
            "    pyopenssl-19.0.0           |           py37_0          82 KB\n",
            "    setuptools-52.0.0          |   py37h06a4308_0         921 KB\n",
            "    ------------------------------------------------------------\n",
            "                                           Total:        59.7 MB\n",
            "\n",
            "The following NEW packages will be INSTALLED:\n",
            "\n",
            "    _libgcc_mutex:          0.1-main               \n",
            "    brotlipy:               0.7.0-py37h27cfd23_1003\n",
            "    conda-package-handling: 1.7.2-py37h03888b9_0   \n",
            "    tqdm:                   4.56.0-pyhd3eb1b0_0    \n",
            "\n",
            "The following packages will be UPDATED:\n",
            "\n",
            "    asn1crypto:             0.24.0-py36_0           --> 1.4.0-py_0              \n",
            "    ca-certificates:        2017.08.26-h1d4fec5_0   --> 2021.1.19-h06a4308_0    \n",
            "    certifi:                2018.1.18-py36_0        --> 2020.12.5-py37h06a4308_0\n",
            "    cffi:                   1.11.4-py36h9745a5d_0   --> 1.14.0-py37h2e261b9_0   \n",
            "    chardet:                3.0.4-py36h0f667ec_1    --> 4.0.0-py37h06a4308_1003 \n",
            "    conda:                  4.4.10-py36_0           --> 4.9.2-py37h06a4308_0    \n",
            "    cryptography:           2.1.4-py36hd09be54_0    --> 2.3.1-py37hc365091_0    \n",
            "    idna:                   2.6-py36h82fb2a8_1      --> 2.10-pyhd3eb1b0_0       \n",
            "    libedit:                3.1-heed3624_0          --> 3.1.20181209-hc058e9b_0 \n",
            "    libgcc-ng:              7.2.0-h7cc24e2_2        --> 9.1.0-hdf63c60_0        \n",
            "    ncurses:                6.0-h9df7e31_2          --> 6.1-hf484d3e_0          \n",
            "    openssl:                1.0.2n-hb7f436b_0       --> 1.0.2u-h7b6447c_0       \n",
            "    pip:                    9.0.1-py36h6c6f9ce_4    --> 21.0.1-py37h06a4308_0   \n",
            "    pycosat:                0.6.3-py36h0a5515d_0    --> 0.6.3-py37h27cfd23_0    \n",
            "    pycparser:              2.18-py36hf9f622e_1     --> 2.20-py_2               \n",
            "    pyopenssl:              17.5.0-py36h20ba746_0   --> 19.0.0-py37_0           \n",
            "    pysocks:                1.6.7-py36hd97a5b1_1    --> 1.7.1-py37_1            \n",
            "    python:                 3.6.4-hc3d631a_1        --> 3.7.0-hc3d631a_0        \n",
            "    readline:               7.0-ha6073c6_4          --> 7.0-h7b6447c_5          \n",
            "    requests:               2.18.4-py36he2e5f8d_1   --> 2.25.1-pyhd3eb1b0_0     \n",
            "    ruamel_yaml:            0.15.35-py36h14c3975_1  --> 0.15.87-py37h7b6447c_1  \n",
            "    setuptools:             38.4.0-py36_0           --> 52.0.0-py37h06a4308_0   \n",
            "    six:                    1.11.0-py36h372c433_1   --> 1.15.0-pyhd3eb1b0_0     \n",
            "    sqlite:                 3.22.0-h1bed415_0       --> 3.31.1-h7b6447c_0       \n",
            "    tk:                     8.6.7-hc745277_3        --> 8.6.10-hbc83047_0       \n",
            "    urllib3:                1.22-py36hbe7ace6_0     --> 1.26.3-pyhd3eb1b0_0     \n",
            "    wheel:                  0.30.0-py36hfd4bba0_1   --> 0.36.2-pyhd3eb1b0_0     \n",
            "    xz:                     5.2.3-h55aa19d_2        --> 5.2.5-h7b6447c_0        \n",
            "    yaml:                   0.1.7-had09818_2        --> 0.2.5-h7b6447c_0        \n",
            "    zlib:                   1.2.11-ha838bed_2       --> 1.2.11-h7b6447c_3       \n",
            "\n",
            "Proceed ([y]/n)? y\n",
            "\n",
            "\n",
            "Downloading and Extracting Packages\n",
            "tqdm 4.56.0: 100% 1.0/1 [00:00<00:00, 10.86it/s]\n",
            "ncurses 6.1: 100% 1.0/1 [00:00<00:00,  1.14it/s]               \n",
            "xz 5.2.5: 100% 1.0/1 [00:00<00:00,  5.63it/s]               \n",
            "pycosat 0.6.3: 100% 1.0/1 [00:00<00:00, 12.40it/s]\n",
            "asn1crypto 1.4.0: 100% 1.0/1 [00:00<00:00, 12.91it/s]\n",
            "chardet 4.0.0: 100% 1.0/1 [00:00<00:00,  8.08it/s]               \n",
            "readline 7.0: 100% 1.0/1 [00:00<00:00,  6.22it/s]               \n",
            "libgcc-ng 9.1.0: 100% 1.0/1 [00:02<00:00,  2.17s/it]               \n",
            "pysocks 1.7.1: 100% 1.0/1 [00:00<00:00, 26.52it/s]\n",
            "six 1.15.0: 100% 1.0/1 [00:00<00:00, 27.44it/s]\n",
            "wheel 0.36.2: 100% 1.0/1 [00:00<00:00, 23.81it/s]\n",
            "pycparser 2.20: 100% 1.0/1 [00:00<00:00,  8.64it/s]               \n",
            "libedit 3.1.20181209: 100% 1.0/1 [00:00<00:00,  9.08it/s]               \n",
            "idna 2.10: 100% 1.0/1 [00:00<00:00, 16.07it/s]\n",
            "urllib3 1.26.3: 100% 1.0/1 [00:00<00:00, 13.05it/s]\n",
            "requests 2.25.1: 100% 1.0/1 [00:00<00:00, 21.73it/s]\n",
            "conda 4.9.2: 100% 1.0/1 [00:01<00:00,  1.08s/it]               \n",
            "openssl 1.0.2u: 100% 1.0/1 [00:00<00:00,  1.05it/s]               \n",
            "zlib 1.2.11: 100% 1.0/1 [00:00<00:00, 15.33it/s]\n",
            "sqlite 3.31.1: 100% 1.0/1 [00:00<00:00,  1.86it/s]    \n",
            "ca-certificates 2021.1.19: 100% 1.0/1 [00:00<00:00, 18.71it/s]\n",
            "pip 21.0.1: 100% 1.0/1 [00:00<00:00,  1.15it/s]               \n",
            "tk 8.6.10: 100% 1.0/1 [00:01<00:00,  1.06s/it]               \n",
            "brotlipy 0.7.0: 100% 1.0/1 [00:00<00:00,  9.12it/s]               \n",
            "python 3.7.0: 100% 1.0/1 [00:07<00:00,  7.54s/it]              \n",
            "conda-package-handling 1.7.2: 100% 1.0/1 [00:00<00:00,  3.78it/s]               \n",
            "yaml 0.2.5: 100% 1.0/1 [00:00<00:00, 17.16it/s]\n",
            "_libgcc_mutex 0.1: 100% 1.0/1 [00:00<00:00, 30.30it/s]\n",
            "ruamel_yaml 0.15.87: 100% 1.0/1 [00:00<00:00,  8.52it/s]               \n",
            "cryptography 2.3.1: 100% 1.0/1 [00:00<00:00,  3.76it/s]               \n",
            "cffi 1.14.0: 100% 1.0/1 [00:00<00:00,  7.20it/s]               \n",
            "certifi 2020.12.5: 100% 1.0/1 [00:00<00:00, 13.93it/s]\n",
            "pyopenssl 19.0.0: 100% 1.0/1 [00:00<00:00, 19.04it/s]\n",
            "setuptools 52.0.0: 100% 1.0/1 [00:00<00:00,  2.47it/s]               \n",
            "Preparing transaction: - \b\b\\ \b\b| \b\bdone\n",
            "Verifying transaction: - \b\b\\ \b\b| \b\b/ \b\b- \b\b\\ \b\b| \b\b/ \b\b- \b\b\\ \b\b| \b\b/ \b\b- \b\b\\ \b\b| \b\b/ \b\b- \b\b\\ \b\bdone\n",
            "Executing transaction: / \b\b- \b\b\\ \b\b| \b\b/ \b\b- \b\b\\ \b\b| \b\b/ \b\b- \b\b\\ \b\b| \b\b/ \b\b- \b\b\\ \b\b| \b\b/ \b\b- \b\b\\ \b\b| \b\b/ \b\b- \b\b\\ \b\b| \b\b/ \b\b- \b\b\\ \b\b| \b\b/ \b\b- \b\b\\ \b\b| \b\b/ \b\b- \b\b\\ \b\b| \b\b/ \b\b- \b\b\\ \b\b| \b\b/ \b\b- \b\b\\ \b\b| \b\b/ \b\b- \b\b\\ \b\b| \b\b/ \b\b- \b\b\\ \b\b| \b\b/ \b\b- \b\b\\ \b\b| \b\b/ \b\b- \b\b\\ \b\b| \b\b/ \b\b- \b\bdone\n"
          ],
          "name": "stdout"
        }
      ]
    },
    {
      "cell_type": "code",
      "metadata": {
        "colab": {
          "base_uri": "https://localhost:8080/"
        },
        "id": "OFg75D5DmZdU",
        "outputId": "7826d480-246f-4aab-975d-de477eec14d1"
      },
      "source": [
        "!conda env update -f environment-cuda.yml"
      ],
      "execution_count": 10,
      "outputs": [
        {
          "output_type": "stream",
          "text": [
            "Collecting package metadata (repodata.json): - \b\b\\ \b\b| \b\b/ \b\b- \b\b\\ \b\b| \b\b/ \b\b- \b\b\\ \b\b| \b\b/ \b\b- \b\b\\ \b\b| \b\b/ \b\b- \b\b\\ \b\b| \b\b/ \b\b- \b\b\\ \b\b| \b\b/ \b\b- \b\b\\ \b\b| \b\b/ \b\b- \b\b\\ \b\b| \b\b/ \b\b- \b\b\\ \b\b| \b\b/ \b\b- \b\b\\ \b\b| \b\b/ \b\b- \b\b\\ \b\b| \b\b/ \b\b- \b\b\\ \b\b| \b\b/ \b\b- \b\b\\ \b\b| \b\b/ \b\b- \b\b\\ \b\b| \b\b/ \b\b- \b\b\\ \b\b| \b\b/ \b\b- \b\b\\ \b\b| \b\b/ \b\b- \b\b\\ \b\b| \b\b/ \b\b- \b\b\\ \b\b| \b\b/ \b\b- \b\b\\ \b\b| \b\b/ \b\b- \b\b\\ \b\b| \b\b/ \b\b- \b\b\\ \b\b| \b\b/ \b\b- \b\b\\ \b\b| \b\b/ \b\b- \b\b\\ \b\b| \b\b/ \b\b- \b\b\\ \b\b| \b\b/ \b\b- \b\b\\ \b\b| \b\b/ \b\b- \b\b\\ \b\b| \b\b/ \b\b- \b\b\\ \b\b| \b\b/ \b\b- \b\b\\ \b\b| \b\b/ \b\b- \b\b\\ \b\b| \b\b/ \b\b- \b\b\\ \b\b| \b\b/ \b\b- \b\b\\ \b\b| \b\b/ \b\b- \b\b\\ \b\b| \b\b/ \b\b- \b\b\\ \b\b| \b\b/ \b\b- \b\b\\ \b\b| \b\b/ \b\b- \b\b\\ \b\b| \b\b/ \b\b- \b\b\\ \b\b| \b\b/ \b\b- \b\b\\ \b\b| \b\b/ \b\b- \b\b\\ \b\b| \b\b/ \b\b- \b\b\\ \b\b| \b\b/ \b\b- \b\b\\ \b\b| \b\b/ \b\b- \b\b\\ \b\b| \b\b/ \b\b- \b\b\\ \b\b| \b\b/ \b\b- \b\b\\ \b\b| \b\b/ \b\b- \b\b\\ \b\b| \b\b/ \b\b- \b\b\\ \b\b| \b\b/ \b\b- \b\b\\ \b\b| \b\b/ \b\b- \b\b\\ \b\b| \b\b/ \b\b- \b\b\\ \b\b| \b\b/ \b\b- \b\b\\ \b\b| \b\bdone\n",
            "Solving environment: - \b\b\\ \b\b| \b\b/ \b\b- \b\b\\ \b\b| \b\b/ \b\b- \b\b\\ \b\b| \b\b/ \b\b- \b\b\\ \b\b| \b\b/ \b\b- \b\b\\ \b\b| \b\b/ \b\b- \b\b\\ \b\b| \b\b/ \b\b- \b\b\\ \b\b| \b\b/ \b\b- \b\b\\ \b\b| \b\b/ \b\b- \b\b\\ \b\b| \b\b/ \b\b- \b\b\\ \b\b| \b\b/ \b\b- \b\b\\ \b\b| \b\b/ \b\b- \b\b\\ \b\b| \b\b/ \b\b- \b\b\\ \b\b| \b\b/ \b\b- \b\b\\ \b\b| \b\b/ \b\b- \b\b\\ \b\b| \b\b/ \b\b- \b\bdone\n",
            "\n",
            "Downloading and Extracting Packages\n",
            "mkl-2020.4           | 215.6 MB  | : 100% 1.0/1 [00:35<00:00, 35.06s/it]               \n",
            "libopenblas-0.3.12   | 8.2 MB    | : 100% 1.0/1 [00:01<00:00,  1.49s/it]\n",
            "python-3.7.10        | 57.3 MB   | : 100% 1.0/1 [00:06<00:00,  6.56s/it]               \n",
            "freetype-2.10.4      | 890 KB    | : 100% 1.0/1 [00:00<00:00,  5.87it/s]\n",
            "openssl-1.1.1j       | 2.1 MB    | : 100% 1.0/1 [00:00<00:00,  3.00it/s]\n",
            "xz-5.2.5             | 343 KB    | : 100% 1.0/1 [00:00<00:00, 11.70it/s]\n",
            "libblas-3.9.0        | 11 KB     | : 100% 1.0/1 [00:00<00:00, 37.78it/s]\n",
            "_openmp_mutex-4.5    | 5 KB      | : 100% 1.0/1 [00:00<00:00, 25.67it/s]\n",
            "liblapack-3.9.0      | 11 KB     | : 100% 1.0/1 [00:00<00:00, 27.34it/s]\n",
            "scipy-1.3.1          | 18.1 MB   | : 100% 1.0/1 [00:02<00:00,  2.83s/it]\n",
            "cudatoolkit-10.1.243 | 427.5 MB  | : 100% 1.0/1 [00:50<00:00, 50.51s/it]               \n",
            "libffi-3.3           | 51 KB     | : 100% 1.0/1 [00:00<00:00, 20.90it/s]\n",
            "libiconv-1.16        | 1.4 MB    | : 100% 1.0/1 [00:00<00:00,  5.16it/s]\n",
            "libgfortran4-7.5.0   | 1.3 MB    | : 100% 1.0/1 [00:00<00:00,  3.88it/s]\n",
            "ld_impl_linux-64-2.3 | 618 KB    | : 100% 1.0/1 [00:00<00:00,  7.06it/s]\n",
            "bzip2-1.0.8          | 484 KB    | : 100% 1.0/1 [00:00<00:00,  8.24it/s]\n",
            "llvm-openmp-11.0.1   | 4.7 MB    | : 100% 1.0/1 [00:00<00:00,  1.43it/s]\n",
            "ncurses-6.2          | 985 KB    | : 100% 1.0/1 [00:00<00:00,  2.61it/s]\n",
            "libstdcxx-ng-9.3.0   | 4.0 MB    | : 100% 1.0/1 [00:00<00:00,  1.71it/s]\n",
            "libcblas-3.9.0       | 11 KB     | : 100% 1.0/1 [00:00<00:00, 25.21it/s]\n",
            "python_abi-3.7       | 4 KB      | : 100% 1.0/1 [00:00<00:00, 42.55it/s]\n",
            "numpy-1.20.1         | 5.8 MB    | : 100% 1.0/1 [00:01<00:00,  1.07s/it]\n",
            "pip-21.0.1           | 1.1 MB    | : 100% 1.0/1 [00:00<00:00,  3.58it/s]\n",
            "libgfortran-ng-7.5.0 | 22 KB     | : 100% 1.0/1 [00:00<00:00, 29.08it/s]\n",
            "openh264-1.8.0       | 1.4 MB    | : 100% 1.0/1 [00:00<00:00,  4.44it/s]\n",
            "ninja-1.10.2         | 2.4 MB    | : 100% 1.0/1 [00:00<00:00,  2.50it/s]\n",
            "zlib-1.2.11          | 106 KB    | : 100% 1.0/1 [00:00<00:00, 22.13it/s]\n",
            "libpng-1.6.37        | 306 KB    | : 100% 1.0/1 [00:00<00:00, 11.68it/s]\n",
            "_libgcc_mutex-0.1    | 3 KB      | : 100% 1.0/1 [00:00<00:00, 33.07it/s]\n",
            "gnutls-3.6.13        | 2.0 MB    | : 100% 1.0/1 [00:00<00:00,  2.26it/s]\n",
            "setuptools-49.6.0    | 947 KB    | : 100% 1.0/1 [00:00<00:00,  4.87it/s]\n",
            "pytorch-1.4.0        | 432.9 MB  | : 100% 1.0/1 [00:57<00:00, 57.04s/it]               \n",
            "lame-3.100           | 496 KB    | : 100% 1.0/1 [00:00<00:00,  7.78it/s]\n",
            "wheel-0.36.2         | 31 KB     | : 100% 1.0/1 [00:00<00:00, 28.49it/s]\n",
            "libgcc-ng-9.3.0      | 7.8 MB    | : 100% 1.0/1 [00:01<00:00,  1.10s/it]\n",
            "ffmpeg-4.2           | 80.2 MB   | : 100% 1.0/1 [00:10<00:00, 10.07s/it]               \n",
            "tqdm-4.36.1          | 43 KB     | : 100% 1.0/1 [00:00<00:00, 21.74it/s]\n",
            "ca-certificates-2020 | 137 KB    | : 100% 1.0/1 [00:00<00:00, 22.63it/s]\n",
            "sqlite-3.34.0        | 1.4 MB    | : 100% 1.0/1 [00:00<00:00,  4.32it/s]\n",
            "readline-8.0         | 281 KB    | : 100% 1.0/1 [00:00<00:00, 11.74it/s]\n",
            "gmp-6.2.1            | 806 KB    | : 100% 1.0/1 [00:00<00:00,  6.44it/s]\n",
            "x264-1!152.20180806  | 1.4 MB    | : 100% 1.0/1 [00:00<00:00,  4.55it/s]\n",
            "certifi-2020.12.5    | 143 KB    | : 100% 1.0/1 [00:00<00:00, 18.86it/s]\n",
            "tk-8.6.10            | 3.2 MB    | : 100% 1.0/1 [00:00<00:00,  1.93it/s]\n",
            "nettle-3.6           | 6.5 MB    | : 100% 1.0/1 [00:00<00:00,  1.13it/s]\n",
            "Preparing transaction: | \b\b/ \b\b- \b\b\\ \b\b| \b\bdone\n",
            "Verifying transaction: - \b\b\\ \b\b| \b\b/ \b\b- \b\b\\ \b\b| \b\b/ \b\b- \b\b\\ \b\b| \b\b/ \b\b- \b\b\\ \b\b| \b\b/ \b\b- \b\b\\ \b\b| \b\b/ \b\b- \b\b\\ \b\b| \b\b/ \b\b- \b\b\\ \b\b| \b\b/ \b\b- \b\b\\ \b\b| \b\b/ \b\b- \b\b\\ \b\b| \b\b/ \b\b- \b\b\\ \b\b| \b\b/ \b\bdone\n",
            "Executing transaction: \\ \b\b| \b\b/ \b\b- \b\b\\ \b\b| \b\b/ \b\b- \b\b\\ By downloading and using the CUDA Toolkit conda packages, you accept the terms and conditions of the CUDA End User License Agreement (EULA): https://docs.nvidia.com/cuda/eula/index.html\n",
            "\n",
            "\b\b| \b\b/ \b\b- \b\b\\ \b\b| \b\b/ \b\b- \b\b\\ \b\b| \b\b/ \b\b- \b\b\\ \b\b| \b\b/ \b\b- \b\bdone\n",
            "Installing pip dependencies: | \b\b/ \b\b- \b\b\\ \b\b| \b\b/ \b\b- \b\b\\ \b\b| \b\b/ \b\b- \b\b\\ \b\b| \b\b/ \b\b- \b\b\\ \b\b| \b\b/ \b\b- \b\b\\ \b\b| \b\b/ \b\b- \b\b\\ \b\b| \b\b/ \b\b- \b\b\\ \b\b| \b\b/ \b\b- \b\b\\ \b\b| \b\b/ \b\b- \b\b\\ \b\b| \b\b/ \b\b- \b\b\\ \b\b| \b\b/ \b\b- \b\b\\ \b\b| \b\b/ \b\b- \b\b\\ \b\b| \b\b/ \b\b- \b\b\\ \b\b| \b\b/ \b\b- \b\b\\ \b\b| \b\b/ \b\b- \b\b\\ \b\b| \b\b/ \b\b- \b\b\\ \b\b| \b\b/ \b\b- \b\b\\ \b\b| \b\b/ \b\b- \b\b\\ \b\b| \b\b/ \b\b- \b\b\\ \b\b| \b\b/ \b\b- \b\b\\ \b\b| \b\b/ \b\b- \b\b\\ \b\b| \b\b/ \b\b- \b\b\\ \b\b| \b\b/ \b\b- \b\b\\ \b\b| \b\b/ \b\b- \b\b\\ \b\b| \b\b/ \b\b- \b\b\\ \b\b| \b\b/ \b\b- \b\b\\ \b\b| \b\b/ \b\b- \b\b\\ \b\b| \b\b/ \b\b- \b\b\\ \b\b| \b\b/ \b\b- Ran pip subprocess with arguments:\n",
            "['/usr/local/envs/demucs/bin/python', '-m', 'pip', 'install', '-U', '-r', '/content/demucs/condaenv.jqv1i97g.requirements.txt']\n",
            "Pip subprocess output:\n",
            "Collecting lameenc==1.2.2\n",
            "  Downloading lameenc-1.2.2-cp37-cp37m-manylinux1_x86_64.whl (187 kB)\n",
            "Collecting musdb==0.3.1\n",
            "  Downloading musdb-0.3.1-py2.py3-none-any.whl (27 kB)\n",
            "Collecting museval==0.3.0\n",
            "  Downloading museval-0.3.0-py2.py3-none-any.whl (21 kB)\n",
            "Collecting requests==2.22\n",
            "  Downloading requests-2.22.0-py2.py3-none-any.whl (57 kB)\n",
            "Collecting treetable==0.2.3\n",
            "  Downloading treetable-0.2.3.tar.gz (6.4 kB)\n",
            "Requirement already satisfied: numpy>=1.7 in /usr/local/envs/demucs/lib/python3.7/site-packages (from musdb==0.3.1->-r /content/demucs/condaenv.jqv1i97g.requirements.txt (line 2)) (1.20.1)\n",
            "Collecting soundfile>=0.9.0\n",
            "  Downloading SoundFile-0.10.3.post1-py2.py3-none-any.whl (21 kB)\n",
            "Collecting stempeg>=0.1.7\n",
            "  Downloading stempeg-0.2.3-py3-none-any.whl (963 kB)\n",
            "Collecting pyaml\n",
            "  Downloading pyaml-20.4.0-py2.py3-none-any.whl (17 kB)\n",
            "Requirement already satisfied: tqdm in /usr/local/envs/demucs/lib/python3.7/site-packages (from musdb==0.3.1->-r /content/demucs/condaenv.jqv1i97g.requirements.txt (line 2)) (4.36.1)\n",
            "Requirement already satisfied: scipy in /usr/local/envs/demucs/lib/python3.7/site-packages (from museval==0.3.0->-r /content/demucs/condaenv.jqv1i97g.requirements.txt (line 3)) (1.3.1)\n",
            "Collecting simplejson\n",
            "  Downloading simplejson-3.17.2-cp37-cp37m-manylinux2010_x86_64.whl (128 kB)\n",
            "Collecting pandas>=0.25.0\n",
            "  Downloading pandas-1.2.2-cp37-cp37m-manylinux1_x86_64.whl (9.9 MB)\n",
            "Collecting jsonschema\n",
            "  Downloading jsonschema-3.2.0-py2.py3-none-any.whl (56 kB)\n",
            "Collecting chardet<3.1.0,>=3.0.2\n",
            "  Downloading chardet-3.0.4-py2.py3-none-any.whl (133 kB)\n",
            "Collecting idna<2.9,>=2.5\n",
            "  Downloading idna-2.8-py2.py3-none-any.whl (58 kB)\n",
            "Collecting urllib3!=1.25.0,!=1.25.1,<1.26,>=1.21.1\n",
            "  Downloading urllib3-1.25.11-py2.py3-none-any.whl (127 kB)\n",
            "Requirement already satisfied: certifi>=2017.4.17 in /usr/local/envs/demucs/lib/python3.7/site-packages (from requests==2.22->-r /content/demucs/condaenv.jqv1i97g.requirements.txt (line 4)) (2020.12.5)\n",
            "Collecting pytz>=2017.3\n",
            "  Downloading pytz-2021.1-py2.py3-none-any.whl (510 kB)\n",
            "Collecting python-dateutil>=2.7.3\n",
            "  Downloading python_dateutil-2.8.1-py2.py3-none-any.whl (227 kB)\n",
            "Collecting six>=1.5\n",
            "  Downloading six-1.15.0-py2.py3-none-any.whl (10 kB)\n",
            "Collecting cffi>=1.0\n",
            "  Downloading cffi-1.14.5-cp37-cp37m-manylinux1_x86_64.whl (402 kB)\n",
            "Collecting pycparser\n",
            "  Downloading pycparser-2.20-py2.py3-none-any.whl (112 kB)\n",
            "Collecting ffmpeg-python>=0.2.0\n",
            "  Downloading ffmpeg_python-0.2.0-py3-none-any.whl (25 kB)\n",
            "Collecting future\n",
            "  Downloading future-0.18.2.tar.gz (829 kB)\n",
            "Collecting importlib-metadata\n",
            "  Downloading importlib_metadata-3.4.0-py3-none-any.whl (10 kB)\n",
            "Collecting pyrsistent>=0.14.0\n",
            "  Downloading pyrsistent-0.17.3.tar.gz (106 kB)\n",
            "Collecting attrs>=17.4.0\n",
            "  Downloading attrs-20.3.0-py2.py3-none-any.whl (49 kB)\n",
            "Requirement already satisfied: setuptools in /usr/local/envs/demucs/lib/python3.7/site-packages (from jsonschema->museval==0.3.0->-r /content/demucs/condaenv.jqv1i97g.requirements.txt (line 3)) (49.6.0.post20210108)\n",
            "Collecting typing-extensions>=3.6.4\n",
            "  Downloading typing_extensions-3.7.4.3-py3-none-any.whl (22 kB)\n",
            "Collecting zipp>=0.5\n",
            "  Downloading zipp-3.4.0-py3-none-any.whl (5.2 kB)\n",
            "Collecting PyYAML\n",
            "  Downloading PyYAML-5.4.1-cp37-cp37m-manylinux1_x86_64.whl (636 kB)\n",
            "Building wheels for collected packages: treetable, future, pyrsistent\n",
            "  Building wheel for treetable (setup.py): started\n",
            "  Building wheel for treetable (setup.py): finished with status 'done'\n",
            "  Created wheel for treetable: filename=treetable-0.2.3-py3-none-any.whl size=6409 sha256=8a5d96d66dec012897067d0312a279bb87413f7e96548d03be473dd7db642346\n",
            "  Stored in directory: /root/.cache/pip/wheels/77/b4/ca/77363f041adbbf0d4ce113ddd82af12a214d43509eadad482a\n",
            "  Building wheel for future (setup.py): started\n",
            "  Building wheel for future (setup.py): finished with status 'done'\n",
            "  Created wheel for future: filename=future-0.18.2-py3-none-any.whl size=491059 sha256=a22c7be246fa5f3916f6c2da8c3762fad978e3ea3cbe3e45e48a251d16a1ff46\n",
            "  Stored in directory: /root/.cache/pip/wheels/56/b0/fe/4410d17b32f1f0c3cf54cdfb2bc04d7b4b8f4ae377e2229ba0\n",
            "  Building wheel for pyrsistent (setup.py): started\n",
            "  Building wheel for pyrsistent (setup.py): finished with status 'done'\n",
            "  Created wheel for pyrsistent: filename=pyrsistent-0.17.3-cp37-cp37m-linux_x86_64.whl size=115249 sha256=ff93b8d4e85087ebfa21220f948ae4f03a2cd05b505ae83530b5510000a60f4a\n",
            "  Stored in directory: /root/.cache/pip/wheels/a5/52/bf/71258a1d7b3c8cbe1ee53f9314c6f65f20385481eaee573cc5\n",
            "Successfully built treetable future pyrsistent\n",
            "Installing collected packages: pycparser, future, zipp, typing-extensions, six, PyYAML, ffmpeg-python, cffi, stempeg, soundfile, pytz, python-dateutil, pyrsistent, pyaml, importlib-metadata, attrs, urllib3, simplejson, pandas, musdb, jsonschema, idna, chardet, treetable, requests, museval, lameenc\n",
            "Successfully installed PyYAML-5.4.1 attrs-20.3.0 cffi-1.14.5 chardet-3.0.4 ffmpeg-python-0.2.0 future-0.18.2 idna-2.8 importlib-metadata-3.4.0 jsonschema-3.2.0 lameenc-1.2.2 musdb-0.3.1 museval-0.3.0 pandas-1.2.2 pyaml-20.4.0 pycparser-2.20 pyrsistent-0.17.3 python-dateutil-2.8.1 pytz-2021.1 requests-2.22.0 simplejson-3.17.2 six-1.15.0 soundfile-0.10.3.post1 stempeg-0.2.3 treetable-0.2.3 typing-extensions-3.7.4.3 urllib3-1.25.11 zipp-3.4.0\n",
            "\n",
            "\b\bdone\n",
            "#\n",
            "# To activate this environment, use\n",
            "#\n",
            "#     $ conda activate demucs\n",
            "#\n",
            "# To deactivate an active environment, use\n",
            "#\n",
            "#     $ conda deactivate\n",
            "\n"
          ],
          "name": "stdout"
        }
      ]
    },
    {
      "cell_type": "code",
      "metadata": {
        "colab": {
          "base_uri": "https://localhost:8080/"
        },
        "id": "otzGCQXameUH",
        "outputId": "e0fb0d06-abe6-4438-f25a-5d84c9a2f361"
      },
      "source": [
        "!conda init bash\r\n"
      ],
      "execution_count": 16,
      "outputs": [
        {
          "output_type": "stream",
          "text": [
            "no change     /usr/local/condabin/conda\n",
            "no change     /usr/local/bin/conda\n",
            "no change     /usr/local/bin/conda-env\n",
            "no change     /usr/local/bin/activate\n",
            "no change     /usr/local/bin/deactivate\n",
            "no change     /usr/local/etc/profile.d/conda.sh\n",
            "no change     /usr/local/etc/fish/conf.d/conda.fish\n",
            "no change     /usr/local/shell/condabin/Conda.psm1\n",
            "no change     /usr/local/shell/condabin/conda-hook.ps1\n",
            "no change     /usr/local/lib/python3.7/site-packages/xontrib/conda.xsh\n",
            "no change     /usr/local/etc/profile.d/conda.csh\n",
            "no change     /root/.bashrc\n",
            "No action taken.\n"
          ],
          "name": "stdout"
        }
      ]
    },
    {
      "cell_type": "code",
      "metadata": {
        "id": "24ABx6iZmiXE"
      },
      "source": [
        "#!conda activate demucs\r\n",
        "!source activate demucs"
      ],
      "execution_count": 18,
      "outputs": []
    },
    {
      "cell_type": "code",
      "metadata": {
        "id": "7KuPBguOmlFA"
      },
      "source": [
        "\r\n",
        "!eval \"$(command conda 'shell.bash' 'hook' 2> /dev/null)\""
      ],
      "execution_count": 19,
      "outputs": []
    },
    {
      "cell_type": "code",
      "metadata": {
        "colab": {
          "base_uri": "https://localhost:8080/"
        },
        "id": "3MEOmoUKmnwF",
        "outputId": "c8b22f6b-e21d-419d-d372-f83873307769"
      },
      "source": [
        "!pip install torch numpy scipy"
      ],
      "execution_count": 20,
      "outputs": [
        {
          "output_type": "stream",
          "text": [
            "Collecting torch\n",
            "  Downloading torch-1.7.1-cp37-cp37m-manylinux1_x86_64.whl (776.8 MB)\n",
            "\u001b[K     |████████████████████████████████| 776.8 MB 17 kB/s \n",
            "\u001b[?25hCollecting numpy\n",
            "  Downloading numpy-1.20.1-cp37-cp37m-manylinux2010_x86_64.whl (15.3 MB)\n",
            "\u001b[K     |████████████████████████████████| 15.3 MB 104 kB/s \n",
            "\u001b[?25hCollecting scipy\n",
            "  Downloading scipy-1.6.1-cp37-cp37m-manylinux1_x86_64.whl (27.4 MB)\n",
            "\u001b[K     |████████████████████████████████| 27.4 MB 53 kB/s \n",
            "\u001b[?25hCollecting typing-extensions\n",
            "  Using cached typing_extensions-3.7.4.3-py3-none-any.whl (22 kB)\n",
            "Installing collected packages: typing-extensions, numpy, torch, scipy\n",
            "Successfully installed numpy-1.20.1 scipy-1.6.1 torch-1.7.1 typing-extensions-3.7.4.3\n"
          ],
          "name": "stdout"
        }
      ]
    },
    {
      "cell_type": "code",
      "metadata": {
        "colab": {
          "base_uri": "https://localhost:8080/"
        },
        "id": "48ZA5UBPmreV",
        "outputId": "e4b2bc7b-aa79-47ff-9681-49d93cc21dd5"
      },
      "source": [
        "!python3 -m demucs.separate --dl -n demucs -d cuda 87c.mp3"
      ],
      "execution_count": 22,
      "outputs": [
        {
          "output_type": "stream",
          "text": [
            "Downloading pre-trained model weights, this could take a while...\n",
            "100%|██████████████████████████████████████████████████████████████████████████████| 2.59G/2.59G [02:42<00:00, 16.0MB/s]\n",
            "Separated tracks will be stored in /content/demucs/separated/demucs\n",
            "Separating track 87c.mp3\n",
            "100%|████████████████████████████████████████████████████████████████████████████| 150/150 [00:04<00:00, 30.86seconds/s]\n"
          ],
          "name": "stdout"
        }
      ]
    },
    {
      "cell_type": "code",
      "metadata": {
        "colab": {
          "base_uri": "https://localhost:8080/"
        },
        "id": "VKoRXsTCtMDF",
        "outputId": "e997383c-13e9-499d-b8e4-e9e965c2e190"
      },
      "source": [
        "from google.colab import drive\r\n",
        "drive.mount('/content/gdrive')"
      ],
      "execution_count": 23,
      "outputs": [
        {
          "output_type": "stream",
          "text": [
            "Mounted at /content/gdrive\n"
          ],
          "name": "stdout"
        }
      ]
    },
    {
      "cell_type": "code",
      "metadata": {
        "colab": {
          "base_uri": "https://localhost:8080/",
          "height": 921
        },
        "id": "dHcJ9K1KvPuM",
        "outputId": "44c2b4fc-d6d6-44a3-c3c5-7f471c218de8"
      },
      "source": [
        "!pip install musdb\r\n",
        "!pip install museval"
      ],
      "execution_count": 27,
      "outputs": [
        {
          "output_type": "stream",
          "text": [
            "Requirement already satisfied: musdb in /usr/local/lib/python3.7/site-packages (0.4.0)\n",
            "Requirement already satisfied: stempeg>=0.2.3 in /usr/local/lib/python3.7/site-packages (from musdb) (0.2.3)\n",
            "Requirement already satisfied: numpy>=1.7 in /usr/local/lib/python3.7/site-packages (from musdb) (1.20.1)\n",
            "Requirement already satisfied: tqdm in /usr/local/lib/python3.7/site-packages (from musdb) (4.56.0)\n",
            "Requirement already satisfied: pyaml in /usr/local/lib/python3.7/site-packages (from musdb) (20.4.0)\n",
            "Requirement already satisfied: ffmpeg-python>=0.2.0 in /usr/local/lib/python3.7/site-packages (from stempeg>=0.2.3->musdb) (0.2.0)\n",
            "Requirement already satisfied: future in /usr/local/lib/python3.7/site-packages (from ffmpeg-python>=0.2.0->stempeg>=0.2.3->musdb) (0.18.2)\n",
            "Requirement already satisfied: PyYAML in /usr/local/lib/python3.7/site-packages (from pyaml->musdb) (5.4.1)\n",
            "Collecting museval\n",
            "  Downloading museval-0.4.0-py2.py3-none-any.whl (21 kB)\n",
            "Collecting pandas>=1.0.1\n",
            "  Downloading pandas-1.1.5-cp37-cp37m-manylinux1_x86_64.whl (9.5 MB)\n",
            "\u001b[K     |████████████████████████████████| 9.5 MB 25.5 MB/s \n",
            "\u001b[?25hRequirement already satisfied: numpy in /usr/local/lib/python3.7/site-packages (from museval) (1.20.1)\n",
            "Requirement already satisfied: scipy in /usr/local/lib/python3.7/site-packages (from museval) (1.6.1)\n",
            "Collecting jsonschema\n",
            "  Using cached jsonschema-3.2.0-py2.py3-none-any.whl (56 kB)\n",
            "Requirement already satisfied: musdb>=0.4.0 in /usr/local/lib/python3.7/site-packages (from museval) (0.4.0)\n",
            "Collecting simplejson\n",
            "  Using cached simplejson-3.17.2-cp37-cp37m-manylinux2010_x86_64.whl (128 kB)\n",
            "Collecting soundfile\n",
            "  Using cached SoundFile-0.10.3.post1-py2.py3-none-any.whl (21 kB)\n",
            "Requirement already satisfied: stempeg>=0.2.3 in /usr/local/lib/python3.7/site-packages (from musdb>=0.4.0->museval) (0.2.3)\n",
            "Requirement already satisfied: tqdm in /usr/local/lib/python3.7/site-packages (from musdb>=0.4.0->museval) (4.56.0)\n",
            "Requirement already satisfied: pyaml in /usr/local/lib/python3.7/site-packages (from musdb>=0.4.0->museval) (20.4.0)\n",
            "Collecting python-dateutil>=2.7.3\n",
            "  Using cached python_dateutil-2.8.1-py2.py3-none-any.whl (227 kB)\n",
            "Collecting pytz>=2017.2\n",
            "  Using cached pytz-2021.1-py2.py3-none-any.whl (510 kB)\n",
            "Requirement already satisfied: six>=1.5 in /usr/local/lib/python3.7/site-packages (from python-dateutil>=2.7.3->pandas>=1.0.1->museval) (1.15.0)\n",
            "Requirement already satisfied: ffmpeg-python>=0.2.0 in /usr/local/lib/python3.7/site-packages (from stempeg>=0.2.3->musdb>=0.4.0->museval) (0.2.0)\n",
            "Requirement already satisfied: future in /usr/local/lib/python3.7/site-packages (from ffmpeg-python>=0.2.0->stempeg>=0.2.3->musdb>=0.4.0->museval) (0.18.2)\n",
            "Collecting importlib-metadata\n",
            "  Using cached importlib_metadata-3.4.0-py3-none-any.whl (10 kB)\n",
            "Collecting pyrsistent>=0.14.0\n",
            "  Using cached pyrsistent-0.17.3-cp37-cp37m-linux_x86_64.whl\n",
            "Collecting attrs>=17.4.0\n",
            "  Using cached attrs-20.3.0-py2.py3-none-any.whl (49 kB)\n",
            "Requirement already satisfied: setuptools in /usr/local/lib/python3.7/site-packages (from jsonschema->museval) (52.0.0.post20210125)\n",
            "Collecting zipp>=0.5\n",
            "  Using cached zipp-3.4.0-py3-none-any.whl (5.2 kB)\n",
            "Requirement already satisfied: typing-extensions>=3.6.4 in /usr/local/lib/python3.7/site-packages (from importlib-metadata->jsonschema->museval) (3.7.4.3)\n",
            "Requirement already satisfied: PyYAML in /usr/local/lib/python3.7/site-packages (from pyaml->musdb>=0.4.0->museval) (5.4.1)\n",
            "Requirement already satisfied: cffi>=1.0 in /usr/local/lib/python3.7/site-packages (from soundfile->museval) (1.14.0)\n",
            "Requirement already satisfied: pycparser in /usr/local/lib/python3.7/site-packages (from cffi>=1.0->soundfile->museval) (2.20)\n",
            "Installing collected packages: zipp, pytz, python-dateutil, pyrsistent, importlib-metadata, attrs, soundfile, simplejson, pandas, jsonschema, museval\n",
            "Successfully installed attrs-20.3.0 importlib-metadata-3.4.0 jsonschema-3.2.0 museval-0.4.0 pandas-1.1.5 pyrsistent-0.17.3 python-dateutil-2.8.1 pytz-2021.1 simplejson-3.17.2 soundfile-0.10.3.post1 zipp-3.4.0\n"
          ],
          "name": "stdout"
        },
        {
          "output_type": "display_data",
          "data": {
            "application/vnd.colab-display-data+json": {
              "pip_warning": {
                "packages": [
                  "dateutil",
                  "pandas"
                ]
              }
            }
          },
          "metadata": {
            "tags": []
          }
        }
      ]
    },
    {
      "cell_type": "code",
      "metadata": {
        "colab": {
          "base_uri": "https://localhost:8080/"
        },
        "id": "o7oJwKAeoBGj",
        "outputId": "429772c4-2f8d-49d2-cafe-279b1c194da3"
      },
      "source": [
        "# Added by Harry\r\n",
        "!python3 -m demucs -b 4  --musdb /content/gdrive/MyDrive/Development/demucs"
      ],
      "execution_count": 29,
      "outputs": [
        {
          "output_type": "stream",
          "text": [
            "Experiment musdb=demucs batch_size=4\n",
            "Number of training samples adjusted to 451924\n",
            "Traceback (most recent call last):\n",
            "  File \"/usr/local/lib/python3.7/runpy.py\", line 193, in _run_module_as_main\n",
            "    \"__main__\", mod_spec)\n",
            "  File \"/usr/local/lib/python3.7/runpy.py\", line 85, in _run_code\n",
            "    exec(code, run_globals)\n",
            "  File \"/content/demucs/demucs/__main__.py\", line 271, in <module>\n",
            "    main()\n",
            "  File \"/content/demucs/demucs/__main__.py\", line 210, in main\n",
            "    world_size=args.world_size)\n",
            "  File \"/content/demucs/demucs/train.py\", line 38, in train_model\n",
            "    loader = DataLoader(dataset, batch_size=batch_size, num_workers=workers, shuffle=True)\n",
            "  File \"/usr/local/lib/python3.7/site-packages/torch/utils/data/dataloader.py\", line 262, in __init__\n",
            "    sampler = RandomSampler(dataset, generator=generator)  # type: ignore\n",
            "  File \"/usr/local/lib/python3.7/site-packages/torch/utils/data/sampler.py\", line 104, in __init__\n",
            "    \"value, but got num_samples={}\".format(self.num_samples))\n",
            "ValueError: num_samples should be a positive integer value, but got num_samples=0\n"
          ],
          "name": "stdout"
        }
      ]
    },
    {
      "cell_type": "markdown",
      "metadata": {
        "id": "StH3DCkVvZdB"
      },
      "source": [
        "# New Section"
      ]
    }
  ]
}